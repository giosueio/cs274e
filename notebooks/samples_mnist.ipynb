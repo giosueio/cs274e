{
 "cells": [
  {
   "cell_type": "code",
   "execution_count": null,
   "metadata": {},
   "outputs": [],
   "source": [
    "import sys\n",
    "sys.path.append('../')\n",
    "\n",
    "import torch\n",
    "import torch.optim as optim\n",
    "from torch.utils.data import DataLoader, TensorDataset\n",
    "from functools import partial\n",
    "\n",
    "import matplotlib.pyplot as plt\n",
    "import numpy as np\n",
    "\n",
    "from src.models.net import *\n",
    "from src.si import *\n",
    "from src.util import util as ut\n",
    "\n",
    "# the original interpolant was trained with mnist at time zero and svhn at time one\n",
    "nsamples = 10\n",
    "mnist_testloader = ut.get_mnist_test()\n",
    "mnist_1000_testsamples = torch.stack([mnist_testloader.dataset[i][0] for i in range(nsamples)])\n",
    "svhn_testloader = ut.get_svhn_test()\n",
    "svhn_1000_testsamples = torch.stack([svhn_testloader.dataset[i][0] for i in range(nsamples)])\n",
    "\n",
    "# save real samples\n",
    "svhn_1000_testsamples_np = svhn_1000_testsamples.squeeze().numpy()\n",
    "mnist_1000_testsamples_np = mnist_1000_testsamples.squeeze().numpy()\n",
    "\n",
    "for i in range(nsamples):\n",
    "    plt.imsave('svhn_{}.png'.format(i), svhn_1000_testsamples_np[i], cmap='gray')\n",
    "    plt.imsave('mnist_{}.png'.format(i), mnist_1000_testsamples_np[i], cmap='gray')\n",
    "\n",
    "\n",
    "model_names = ['encdec', 'lin', 'linsb', 'sqrt', 'squared']\n",
    "SIs = [EncoderDecoderInterpolant, LinearInterpolant, LinearInterpolant, \n",
    "       partial(PolynomialInterpolant, p=0.5), partial(PolynomialInterpolant, p=2)]\n",
    "\n",
    "\n",
    "for m in range(5):\n",
    "    model = UNet(\n",
    "        dim = 28,\n",
    "        dim_mults = (1,2,),\n",
    "        flash_attn = True,\n",
    "        channels=1,\n",
    "        resnet_block_groups=4,\n",
    "        attn_dim_head=32,\n",
    "        attn_heads=4,\n",
    "    )\n",
    "\n",
    "    model.load_state_dict(torch.load(f'../models/mnist_model_{model_names[m]}/epoch_500.pt'))\n",
    "    \n",
    "    model = ut.model_counter(model)\n",
    "    model.eval()\n",
    "\n",
    "\n",
    "    si = SIs[m](model)\n",
    "    si.loss_type = 'velocity'\n",
    "    if model_names[m] == 'linsb':\n",
    "        si = make_noisy(si, 0.5)\n",
    "    else:\n",
    "        si = make_sinsq_noisy(si)\n",
    "    \n",
    "    x_initial_mnist = mnist_1000_testsamples\n",
    "    gen_svhn_samples = si.sample(x_initial=x_initial_mnist, direction='f')\n",
    "    print('svhn samples generated')\n",
    "    print(f'NFE for svhn for model {model_names[m]}:', model.counter)\n",
    "    # convert tensors to images\n",
    "    gen_svhn_samples = gen_svhn_samples.squeeze().detach().numpy()\n",
    "    # save images\n",
    "    for i in range(nsamples):\n",
    "        plt.imsave(f'../gen_samples/{model_names[m]}/svhn/{i}.png', gen_svhn_samples[i], cmap='gray')\n",
    "\n",
    "    model.counter = 0\n",
    "    x_initial_svhn = svhn_1000_testsamples\n",
    "    gen_mnist_samples = si.sample(x_initial=x_initial_svhn, direction='r')\n",
    "    print('mnist samples generated')\n",
    "    print(f'NFE for mnist for model {model_names[m]}:', model.counter)\n",
    "    # convert tensors to images\n",
    "    gen_mnist_samples = gen_mnist_samples.squeeze().detach().numpy()\n",
    "    # save images\n",
    "    for i in range(nsamples):\n",
    "        plt.imsave(f'../gen_samples/{model_names[m]}/mnist/{i}.png', gen_mnist_samples[i], cmap='gray')\n"
   ]
  },
  {
   "cell_type": "code",
   "execution_count": 21,
   "metadata": {},
   "outputs": [
    {
     "name": "stdout",
     "output_type": "stream",
     "text": [
      "svhn samples generated\n",
      "NFE for svhn for model encdec: 200\n",
      "mnist samples generated\n",
      "NFE for mnist for model encdec: 218\n"
     ]
    }
   ],
   "source": [
    "\n"
   ]
  }
 ],
 "metadata": {
  "kernelspec": {
   "display_name": "stochint",
   "language": "python",
   "name": "python3"
  },
  "language_info": {
   "codemirror_mode": {
    "name": "ipython",
    "version": 3
   },
   "file_extension": ".py",
   "mimetype": "text/x-python",
   "name": "python",
   "nbconvert_exporter": "python",
   "pygments_lexer": "ipython3",
   "version": "3.10.13"
  }
 },
 "nbformat": 4,
 "nbformat_minor": 2
}
